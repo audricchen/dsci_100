{
 "cells": [
  {
   "cell_type": "markdown",
   "id": "00a6ed25-6d21-4aa8-b9f7-078ff923a6ef",
   "metadata": {
    "tags": []
   },
   "source": [
    "# DSCI 100 Group Project Report"
   ]
  },
  {
   "cell_type": "markdown",
   "id": "c24a84c3-6319-4e02-82ee-8318afbd0b94",
   "metadata": {},
   "source": [
    "### Introduction"
   ]
  },
  {
   "cell_type": "markdown",
   "id": "95348297-62ae-4cab-bed3-a2878d618337",
   "metadata": {},
   "source": [
    "Can we predict the win rate of a player given their various statistics? We aim to investigate the factors that influence the win rate in tennis games. We are interested in understanding the relationship between a player's stats and the likelihood of winning a game. By gaining insights into how these factors relate to the probability of winning, we can make more informed and predictive decisions regarding future tennis matches.\n",
    "\n",
    "To conduct our research, we chose to use the `atp2017-2019.csv` dataset provided on the group project proposal page on Canvas. This dataset contains 6866 observations and 49 variables. Each observation represents a match played in 2017-2019 between top 500 ATP ranked players. The variables contain information both about the match and the individual player stats, with 11 being unique variables, and the rest being various player stats that are separate for the winner and the loser."
   ]
  },
  {
   "cell_type": "markdown",
   "id": "70b6b977-559e-4fa4-8f34-225b3ecf8a36",
   "metadata": {},
   "source": [
    "### Methods & Results"
   ]
  },
  {
   "cell_type": "markdown",
   "id": "17ba1163-128f-47a5-ae27-4e2decd777e5",
   "metadata": {},
   "source": [
    "The following libraries are loaded to provide the functions that are used to operate on the data:"
   ]
  },
  {
   "cell_type": "code",
   "execution_count": 1,
   "id": "bb53651c-042d-43b0-ba60-b1abe71f02bc",
   "metadata": {
    "tags": []
   },
   "outputs": [
    {
     "name": "stderr",
     "output_type": "stream",
     "text": [
      "── \u001b[1mAttaching packages\u001b[22m ─────────────────────────────────────── tidyverse 1.3.2 ──\n",
      "\u001b[32m✔\u001b[39m \u001b[34mggplot2\u001b[39m 3.4.2     \u001b[32m✔\u001b[39m \u001b[34mpurrr  \u001b[39m 1.0.1\n",
      "\u001b[32m✔\u001b[39m \u001b[34mtibble \u001b[39m 3.2.1     \u001b[32m✔\u001b[39m \u001b[34mdplyr  \u001b[39m 1.1.1\n",
      "\u001b[32m✔\u001b[39m \u001b[34mtidyr  \u001b[39m 1.3.0     \u001b[32m✔\u001b[39m \u001b[34mstringr\u001b[39m 1.5.0\n",
      "\u001b[32m✔\u001b[39m \u001b[34mreadr  \u001b[39m 2.1.3     \u001b[32m✔\u001b[39m \u001b[34mforcats\u001b[39m 0.5.2\n",
      "── \u001b[1mConflicts\u001b[22m ────────────────────────────────────────── tidyverse_conflicts() ──\n",
      "\u001b[31m✖\u001b[39m \u001b[34mdplyr\u001b[39m::\u001b[32mfilter()\u001b[39m masks \u001b[34mstats\u001b[39m::filter()\n",
      "\u001b[31m✖\u001b[39m \u001b[34mdplyr\u001b[39m::\u001b[32mlag()\u001b[39m    masks \u001b[34mstats\u001b[39m::lag()\n",
      "── \u001b[1mAttaching packages\u001b[22m ────────────────────────────────────── tidymodels 1.0.0 ──\n",
      "\n",
      "\u001b[32m✔\u001b[39m \u001b[34mbroom       \u001b[39m 1.0.2     \u001b[32m✔\u001b[39m \u001b[34mrsample     \u001b[39m 1.1.1\n",
      "\u001b[32m✔\u001b[39m \u001b[34mdials       \u001b[39m 1.1.0     \u001b[32m✔\u001b[39m \u001b[34mtune        \u001b[39m 1.0.1\n",
      "\u001b[32m✔\u001b[39m \u001b[34minfer       \u001b[39m 1.0.4     \u001b[32m✔\u001b[39m \u001b[34mworkflows   \u001b[39m 1.1.2\n",
      "\u001b[32m✔\u001b[39m \u001b[34mmodeldata   \u001b[39m 1.0.1     \u001b[32m✔\u001b[39m \u001b[34mworkflowsets\u001b[39m 1.0.0\n",
      "\u001b[32m✔\u001b[39m \u001b[34mparsnip     \u001b[39m 1.0.3     \u001b[32m✔\u001b[39m \u001b[34myardstick   \u001b[39m 1.1.0\n",
      "\u001b[32m✔\u001b[39m \u001b[34mrecipes     \u001b[39m 1.0.4     \n",
      "\n",
      "── \u001b[1mConflicts\u001b[22m ───────────────────────────────────────── tidymodels_conflicts() ──\n",
      "\u001b[31m✖\u001b[39m \u001b[34mscales\u001b[39m::\u001b[32mdiscard()\u001b[39m masks \u001b[34mpurrr\u001b[39m::discard()\n",
      "\u001b[31m✖\u001b[39m \u001b[34mdplyr\u001b[39m::\u001b[32mfilter()\u001b[39m   masks \u001b[34mstats\u001b[39m::filter()\n",
      "\u001b[31m✖\u001b[39m \u001b[34mrecipes\u001b[39m::\u001b[32mfixed()\u001b[39m  masks \u001b[34mstringr\u001b[39m::fixed()\n",
      "\u001b[31m✖\u001b[39m \u001b[34mdplyr\u001b[39m::\u001b[32mlag()\u001b[39m      masks \u001b[34mstats\u001b[39m::lag()\n",
      "\u001b[31m✖\u001b[39m \u001b[34myardstick\u001b[39m::\u001b[32mspec()\u001b[39m masks \u001b[34mreadr\u001b[39m::spec()\n",
      "\u001b[31m✖\u001b[39m \u001b[34mrecipes\u001b[39m::\u001b[32mstep()\u001b[39m   masks \u001b[34mstats\u001b[39m::step()\n",
      "\u001b[34m•\u001b[39m Learn how to get started at \u001b[32mhttps://www.tidymodels.org/start/\u001b[39m\n",
      "\n"
     ]
    }
   ],
   "source": [
    "library(tidyverse)\n",
    "library(repr)\n",
    "library(tidymodels)\n",
    "options(repr.matrix.max.rows = 10)"
   ]
  },
  {
   "cell_type": "markdown",
   "id": "37f558f2-a070-425e-a4fb-539962d358a8",
   "metadata": {
    "tags": []
   },
   "source": [
    "The data is read using `read_csv` and displayed below."
   ]
  },
  {
   "cell_type": "code",
   "execution_count": 2,
   "id": "190f493e-2398-4892-a3bf-bea7790aef6d",
   "metadata": {
    "tags": []
   },
   "outputs": [
    {
     "name": "stderr",
     "output_type": "stream",
     "text": [
      "\u001b[1m\u001b[22mNew names:\n",
      "\u001b[36m•\u001b[39m `` -> `...1`\n",
      "\u001b[1mRows: \u001b[22m\u001b[34m6866\u001b[39m \u001b[1mColumns: \u001b[22m\u001b[34m50\u001b[39m\n",
      "\u001b[36m──\u001b[39m \u001b[1mColumn specification\u001b[22m \u001b[36m────────────────────────────────────────────────────────\u001b[39m\n",
      "\u001b[1mDelimiter:\u001b[22m \",\"\n",
      "\u001b[31mchr\u001b[39m (16): tourney_id, tourney_name, surface, tourney_level, winner_seed, win...\n",
      "\u001b[32mdbl\u001b[39m (34): ...1, draw_size, tourney_date, match_num, winner_id, winner_ht, wi...\n",
      "\n",
      "\u001b[36mℹ\u001b[39m Use `spec()` to retrieve the full column specification for this data.\n",
      "\u001b[36mℹ\u001b[39m Specify the column types or set `show_col_types = FALSE` to quiet this message.\n"
     ]
    },
    {
     "data": {
      "text/html": [
       "<table class=\"dataframe\">\n",
       "<caption>A tibble: 6866 × 49</caption>\n",
       "<thead>\n",
       "\t<tr><th scope=col>tourney_id</th><th scope=col>tourney_name</th><th scope=col>surface</th><th scope=col>draw_size</th><th scope=col>tourney_level</th><th scope=col>tourney_date</th><th scope=col>match_num</th><th scope=col>winner_id</th><th scope=col>winner_seed</th><th scope=col>winner_entry</th><th scope=col>⋯</th><th scope=col>l_1stIn</th><th scope=col>l_1stWon</th><th scope=col>l_2ndWon</th><th scope=col>l_SvGms</th><th scope=col>l_bpSaved</th><th scope=col>l_bpFaced</th><th scope=col>winner_rank</th><th scope=col>winner_rank_points</th><th scope=col>loser_rank</th><th scope=col>loser_rank_points</th></tr>\n",
       "\t<tr><th scope=col>&lt;chr&gt;</th><th scope=col>&lt;chr&gt;</th><th scope=col>&lt;fct&gt;</th><th scope=col>&lt;dbl&gt;</th><th scope=col>&lt;chr&gt;</th><th scope=col>&lt;dbl&gt;</th><th scope=col>&lt;dbl&gt;</th><th scope=col>&lt;dbl&gt;</th><th scope=col>&lt;chr&gt;</th><th scope=col>&lt;chr&gt;</th><th scope=col>⋯</th><th scope=col>&lt;dbl&gt;</th><th scope=col>&lt;dbl&gt;</th><th scope=col>&lt;dbl&gt;</th><th scope=col>&lt;dbl&gt;</th><th scope=col>&lt;dbl&gt;</th><th scope=col>&lt;dbl&gt;</th><th scope=col>&lt;dbl&gt;</th><th scope=col>&lt;dbl&gt;</th><th scope=col>&lt;dbl&gt;</th><th scope=col>&lt;dbl&gt;</th></tr>\n",
       "</thead>\n",
       "<tbody>\n",
       "\t<tr><td>2019-M020</td><td>Brisbane</td><td>Hard</td><td>32</td><td>A</td><td>20181231</td><td>300</td><td>105453</td><td>2 </td><td>NA</td><td>⋯</td><td>54</td><td>34</td><td>20</td><td>14</td><td>10</td><td>15</td><td>  9</td><td>3590</td><td> 16</td><td>1977</td></tr>\n",
       "\t<tr><td>2019-M020</td><td>Brisbane</td><td>Hard</td><td>32</td><td>A</td><td>20181231</td><td>299</td><td>106421</td><td>4 </td><td>NA</td><td>⋯</td><td>52</td><td>36</td><td> 7</td><td>10</td><td>10</td><td>13</td><td> 16</td><td>1977</td><td>239</td><td> 200</td></tr>\n",
       "\t<tr><td>2019-M020</td><td>Brisbane</td><td>Hard</td><td>32</td><td>A</td><td>20181231</td><td>298</td><td>105453</td><td>2 </td><td>NA</td><td>⋯</td><td>27</td><td>15</td><td> 6</td><td> 8</td><td> 1</td><td> 5</td><td>  9</td><td>3590</td><td> 40</td><td>1050</td></tr>\n",
       "\t<tr><td>2019-M020</td><td>Brisbane</td><td>Hard</td><td>32</td><td>A</td><td>20181231</td><td>297</td><td>104542</td><td>NA</td><td>PR</td><td>⋯</td><td>60</td><td>38</td><td> 9</td><td>11</td><td> 4</td><td> 6</td><td>239</td><td> 200</td><td> 31</td><td>1298</td></tr>\n",
       "\t<tr><td>2019-M020</td><td>Brisbane</td><td>Hard</td><td>32</td><td>A</td><td>20181231</td><td>296</td><td>106421</td><td>4 </td><td>NA</td><td>⋯</td><td>56</td><td>46</td><td>19</td><td>15</td><td> 2</td><td> 4</td><td> 16</td><td>1977</td><td> 18</td><td>1855</td></tr>\n",
       "\t<tr><td>⋮</td><td>⋮</td><td>⋮</td><td>⋮</td><td>⋮</td><td>⋮</td><td>⋮</td><td>⋮</td><td>⋮</td><td>⋮</td><td>⋱</td><td>⋮</td><td>⋮</td><td>⋮</td><td>⋮</td><td>⋮</td><td>⋮</td><td>⋮</td><td>⋮</td><td>⋮</td><td>⋮</td></tr>\n",
       "\t<tr><td>2017-0605                     </td><td>Tour Finals               </td><td>Hard</td><td>8</td><td>F</td><td>20171113</td><td>300</td><td>105777</td><td>6.0</td><td>NA</td><td>⋯</td><td>54</td><td>42</td><td>22</td><td>15</td><td>11</td><td>15</td><td> 6</td><td>3650</td><td> 8</td><td>2975</td></tr>\n",
       "\t<tr><td>2017-M-DC-2017-WG-M-BEL-FRA-01</td><td>Davis Cup WG F: BEL vs FRA</td><td>Hard</td><td>4</td><td>D</td><td>20171124</td><td>  1</td><td>105676</td><td>NA </td><td>NA</td><td>⋯</td><td>53</td><td>33</td><td>21</td><td>14</td><td> 6</td><td>11</td><td> 7</td><td>3775</td><td>18</td><td>2235</td></tr>\n",
       "\t<tr><td>2017-M-DC-2017-WG-M-BEL-FRA-01</td><td>Davis Cup WG F: BEL vs FRA</td><td>Hard</td><td>4</td><td>D</td><td>20171124</td><td>  2</td><td>104542</td><td>NA </td><td>NA</td><td>⋯</td><td>54</td><td>30</td><td>12</td><td>12</td><td> 5</td><td>11</td><td>15</td><td>2320</td><td>76</td><td> 667</td></tr>\n",
       "\t<tr><td>2017-M-DC-2017-WG-M-BEL-FRA-01</td><td>Davis Cup WG F: BEL vs FRA</td><td>Hard</td><td>4</td><td>D</td><td>20171124</td><td>  4</td><td>105676</td><td>NA </td><td>NA</td><td>⋯</td><td>54</td><td>44</td><td>13</td><td>14</td><td> 7</td><td>10</td><td> 7</td><td>3775</td><td>15</td><td>2320</td></tr>\n",
       "\t<tr><td>2017-M-DC-2017-WG-M-BEL-FRA-01</td><td>Davis Cup WG F: BEL vs FRA</td><td>Hard</td><td>4</td><td>D</td><td>20171124</td><td>  5</td><td>106298</td><td>NA </td><td>NA</td><td>⋯</td><td>53</td><td>29</td><td>11</td><td>11</td><td> 4</td><td>11</td><td>18</td><td>2235</td><td>76</td><td> 667</td></tr>\n",
       "</tbody>\n",
       "</table>\n"
      ],
      "text/latex": [
       "A tibble: 6866 × 49\n",
       "\\begin{tabular}{lllllllllllllllllllll}\n",
       " tourney\\_id & tourney\\_name & surface & draw\\_size & tourney\\_level & tourney\\_date & match\\_num & winner\\_id & winner\\_seed & winner\\_entry & ⋯ & l\\_1stIn & l\\_1stWon & l\\_2ndWon & l\\_SvGms & l\\_bpSaved & l\\_bpFaced & winner\\_rank & winner\\_rank\\_points & loser\\_rank & loser\\_rank\\_points\\\\\n",
       " <chr> & <chr> & <fct> & <dbl> & <chr> & <dbl> & <dbl> & <dbl> & <chr> & <chr> & ⋯ & <dbl> & <dbl> & <dbl> & <dbl> & <dbl> & <dbl> & <dbl> & <dbl> & <dbl> & <dbl>\\\\\n",
       "\\hline\n",
       "\t 2019-M020 & Brisbane & Hard & 32 & A & 20181231 & 300 & 105453 & 2  & NA & ⋯ & 54 & 34 & 20 & 14 & 10 & 15 &   9 & 3590 &  16 & 1977\\\\\n",
       "\t 2019-M020 & Brisbane & Hard & 32 & A & 20181231 & 299 & 106421 & 4  & NA & ⋯ & 52 & 36 &  7 & 10 & 10 & 13 &  16 & 1977 & 239 &  200\\\\\n",
       "\t 2019-M020 & Brisbane & Hard & 32 & A & 20181231 & 298 & 105453 & 2  & NA & ⋯ & 27 & 15 &  6 &  8 &  1 &  5 &   9 & 3590 &  40 & 1050\\\\\n",
       "\t 2019-M020 & Brisbane & Hard & 32 & A & 20181231 & 297 & 104542 & NA & PR & ⋯ & 60 & 38 &  9 & 11 &  4 &  6 & 239 &  200 &  31 & 1298\\\\\n",
       "\t 2019-M020 & Brisbane & Hard & 32 & A & 20181231 & 296 & 106421 & 4  & NA & ⋯ & 56 & 46 & 19 & 15 &  2 &  4 &  16 & 1977 &  18 & 1855\\\\\n",
       "\t ⋮ & ⋮ & ⋮ & ⋮ & ⋮ & ⋮ & ⋮ & ⋮ & ⋮ & ⋮ & ⋱ & ⋮ & ⋮ & ⋮ & ⋮ & ⋮ & ⋮ & ⋮ & ⋮ & ⋮ & ⋮\\\\\n",
       "\t 2017-0605                      & Tour Finals                & Hard & 8 & F & 20171113 & 300 & 105777 & 6.0 & NA & ⋯ & 54 & 42 & 22 & 15 & 11 & 15 &  6 & 3650 &  8 & 2975\\\\\n",
       "\t 2017-M-DC-2017-WG-M-BEL-FRA-01 & Davis Cup WG F: BEL vs FRA & Hard & 4 & D & 20171124 &   1 & 105676 & NA  & NA & ⋯ & 53 & 33 & 21 & 14 &  6 & 11 &  7 & 3775 & 18 & 2235\\\\\n",
       "\t 2017-M-DC-2017-WG-M-BEL-FRA-01 & Davis Cup WG F: BEL vs FRA & Hard & 4 & D & 20171124 &   2 & 104542 & NA  & NA & ⋯ & 54 & 30 & 12 & 12 &  5 & 11 & 15 & 2320 & 76 &  667\\\\\n",
       "\t 2017-M-DC-2017-WG-M-BEL-FRA-01 & Davis Cup WG F: BEL vs FRA & Hard & 4 & D & 20171124 &   4 & 105676 & NA  & NA & ⋯ & 54 & 44 & 13 & 14 &  7 & 10 &  7 & 3775 & 15 & 2320\\\\\n",
       "\t 2017-M-DC-2017-WG-M-BEL-FRA-01 & Davis Cup WG F: BEL vs FRA & Hard & 4 & D & 20171124 &   5 & 106298 & NA  & NA & ⋯ & 53 & 29 & 11 & 11 &  4 & 11 & 18 & 2235 & 76 &  667\\\\\n",
       "\\end{tabular}\n"
      ],
      "text/markdown": [
       "\n",
       "A tibble: 6866 × 49\n",
       "\n",
       "| tourney_id &lt;chr&gt; | tourney_name &lt;chr&gt; | surface &lt;fct&gt; | draw_size &lt;dbl&gt; | tourney_level &lt;chr&gt; | tourney_date &lt;dbl&gt; | match_num &lt;dbl&gt; | winner_id &lt;dbl&gt; | winner_seed &lt;chr&gt; | winner_entry &lt;chr&gt; | ⋯ ⋯ | l_1stIn &lt;dbl&gt; | l_1stWon &lt;dbl&gt; | l_2ndWon &lt;dbl&gt; | l_SvGms &lt;dbl&gt; | l_bpSaved &lt;dbl&gt; | l_bpFaced &lt;dbl&gt; | winner_rank &lt;dbl&gt; | winner_rank_points &lt;dbl&gt; | loser_rank &lt;dbl&gt; | loser_rank_points &lt;dbl&gt; |\n",
       "|---|---|---|---|---|---|---|---|---|---|---|---|---|---|---|---|---|---|---|---|---|\n",
       "| 2019-M020 | Brisbane | Hard | 32 | A | 20181231 | 300 | 105453 | 2  | NA | ⋯ | 54 | 34 | 20 | 14 | 10 | 15 |   9 | 3590 |  16 | 1977 |\n",
       "| 2019-M020 | Brisbane | Hard | 32 | A | 20181231 | 299 | 106421 | 4  | NA | ⋯ | 52 | 36 |  7 | 10 | 10 | 13 |  16 | 1977 | 239 |  200 |\n",
       "| 2019-M020 | Brisbane | Hard | 32 | A | 20181231 | 298 | 105453 | 2  | NA | ⋯ | 27 | 15 |  6 |  8 |  1 |  5 |   9 | 3590 |  40 | 1050 |\n",
       "| 2019-M020 | Brisbane | Hard | 32 | A | 20181231 | 297 | 104542 | NA | PR | ⋯ | 60 | 38 |  9 | 11 |  4 |  6 | 239 |  200 |  31 | 1298 |\n",
       "| 2019-M020 | Brisbane | Hard | 32 | A | 20181231 | 296 | 106421 | 4  | NA | ⋯ | 56 | 46 | 19 | 15 |  2 |  4 |  16 | 1977 |  18 | 1855 |\n",
       "| ⋮ | ⋮ | ⋮ | ⋮ | ⋮ | ⋮ | ⋮ | ⋮ | ⋮ | ⋮ | ⋱ | ⋮ | ⋮ | ⋮ | ⋮ | ⋮ | ⋮ | ⋮ | ⋮ | ⋮ | ⋮ |\n",
       "| 2017-0605                      | Tour Finals                | Hard | 8 | F | 20171113 | 300 | 105777 | 6.0 | NA | ⋯ | 54 | 42 | 22 | 15 | 11 | 15 |  6 | 3650 |  8 | 2975 |\n",
       "| 2017-M-DC-2017-WG-M-BEL-FRA-01 | Davis Cup WG F: BEL vs FRA | Hard | 4 | D | 20171124 |   1 | 105676 | NA  | NA | ⋯ | 53 | 33 | 21 | 14 |  6 | 11 |  7 | 3775 | 18 | 2235 |\n",
       "| 2017-M-DC-2017-WG-M-BEL-FRA-01 | Davis Cup WG F: BEL vs FRA | Hard | 4 | D | 20171124 |   2 | 104542 | NA  | NA | ⋯ | 54 | 30 | 12 | 12 |  5 | 11 | 15 | 2320 | 76 |  667 |\n",
       "| 2017-M-DC-2017-WG-M-BEL-FRA-01 | Davis Cup WG F: BEL vs FRA | Hard | 4 | D | 20171124 |   4 | 105676 | NA  | NA | ⋯ | 54 | 44 | 13 | 14 |  7 | 10 |  7 | 3775 | 15 | 2320 |\n",
       "| 2017-M-DC-2017-WG-M-BEL-FRA-01 | Davis Cup WG F: BEL vs FRA | Hard | 4 | D | 20171124 |   5 | 106298 | NA  | NA | ⋯ | 53 | 29 | 11 | 11 |  4 | 11 | 18 | 2235 | 76 |  667 |\n",
       "\n"
      ],
      "text/plain": [
       "     tourney_id                     tourney_name               surface\n",
       "1    2019-M020                      Brisbane                   Hard   \n",
       "2    2019-M020                      Brisbane                   Hard   \n",
       "3    2019-M020                      Brisbane                   Hard   \n",
       "4    2019-M020                      Brisbane                   Hard   \n",
       "5    2019-M020                      Brisbane                   Hard   \n",
       "⋮    ⋮                              ⋮                          ⋮      \n",
       "6862 2017-0605                      Tour Finals                Hard   \n",
       "6863 2017-M-DC-2017-WG-M-BEL-FRA-01 Davis Cup WG F: BEL vs FRA Hard   \n",
       "6864 2017-M-DC-2017-WG-M-BEL-FRA-01 Davis Cup WG F: BEL vs FRA Hard   \n",
       "6865 2017-M-DC-2017-WG-M-BEL-FRA-01 Davis Cup WG F: BEL vs FRA Hard   \n",
       "6866 2017-M-DC-2017-WG-M-BEL-FRA-01 Davis Cup WG F: BEL vs FRA Hard   \n",
       "     draw_size tourney_level tourney_date match_num winner_id winner_seed\n",
       "1    32        A             20181231     300       105453    2          \n",
       "2    32        A             20181231     299       106421    4          \n",
       "3    32        A             20181231     298       105453    2          \n",
       "4    32        A             20181231     297       104542    NA         \n",
       "5    32        A             20181231     296       106421    4          \n",
       "⋮    ⋮         ⋮             ⋮            ⋮         ⋮         ⋮          \n",
       "6862 8         F             20171113     300       105777    6.0        \n",
       "6863 4         D             20171124       1       105676    NA         \n",
       "6864 4         D             20171124       2       104542    NA         \n",
       "6865 4         D             20171124       4       105676    NA         \n",
       "6866 4         D             20171124       5       106298    NA         \n",
       "     winner_entry ⋯ l_1stIn l_1stWon l_2ndWon l_SvGms l_bpSaved l_bpFaced\n",
       "1    NA           ⋯ 54      34       20       14      10        15       \n",
       "2    NA           ⋯ 52      36        7       10      10        13       \n",
       "3    NA           ⋯ 27      15        6        8       1         5       \n",
       "4    PR           ⋯ 60      38        9       11       4         6       \n",
       "5    NA           ⋯ 56      46       19       15       2         4       \n",
       "⋮    ⋮            ⋱ ⋮       ⋮        ⋮        ⋮       ⋮         ⋮        \n",
       "6862 NA           ⋯ 54      42       22       15      11        15       \n",
       "6863 NA           ⋯ 53      33       21       14       6        11       \n",
       "6864 NA           ⋯ 54      30       12       12       5        11       \n",
       "6865 NA           ⋯ 54      44       13       14       7        10       \n",
       "6866 NA           ⋯ 53      29       11       11       4        11       \n",
       "     winner_rank winner_rank_points loser_rank loser_rank_points\n",
       "1      9         3590                16        1977             \n",
       "2     16         1977               239         200             \n",
       "3      9         3590                40        1050             \n",
       "4    239          200                31        1298             \n",
       "5     16         1977                18        1855             \n",
       "⋮    ⋮           ⋮                  ⋮          ⋮                \n",
       "6862  6          3650                8         2975             \n",
       "6863  7          3775               18         2235             \n",
       "6864 15          2320               76          667             \n",
       "6865  7          3775               15         2320             \n",
       "6866 18          2235               76          667             "
      ]
     },
     "metadata": {},
     "output_type": "display_data"
    }
   ],
   "source": [
    "tennis_data <- read_csv(\"atp2017-2019.csv\") |>\n",
    "    select(-...1) |>\n",
    "    mutate(surface = as_factor(surface))\n",
    "tennis_data"
   ]
  },
  {
   "cell_type": "markdown",
   "id": "6e31b5d2-cba4-41ed-bb18-12050cf0c449",
   "metadata": {},
   "source": [
    "The stats of the winners of each match are selected and renamed, then assigned to an object named *`tennis_winner`*. The number of wins is also obtained using `group_by()` and `summarize()` and assigned to *`tennis_wins`*."
   ]
  },
  {
   "cell_type": "code",
   "execution_count": 37,
   "id": "64323b88-b95e-414f-b8c7-099fcc245b67",
   "metadata": {
    "tags": []
   },
   "outputs": [],
   "source": [
    "tennis_winner <- tennis_data |>\n",
    "    select(winner_name, winner_age, minutes:w_bpFaced) |>\n",
    "    rename(\"name\" = winner_name, \"age\" = winner_age, \"ace\" = w_ace, \"df\" = w_df, \"sv_pts\" = w_svpt, \"first_sv_in\" = w_1stIn, \"first_sv_won\" = w_1stWon,\n",
    "           \"second_sv_won\" = w_2ndWon, \"sv_gms\" = w_SvGms, \"bp_saved\" = w_bpSaved, \"bp_faced\" = w_bpFaced)\n",
    "\n",
    "tennis_wins <- tennis_winner |>\n",
    "    group_by(name) |>\n",
    "    summarize(win_count = n())\n",
    "\n",
    "tennis_win_names <- tennis_winner |>\n",
    "    pull(name)"
   ]
  },
  {
   "cell_type": "markdown",
   "id": "cf72e45d-fd5c-4cb5-9eaa-0f57775c4b13",
   "metadata": {},
   "source": [
    "The stats of the losers are also selected and renamed, but are then filtered to only contain those that have won at least a single match. The number of losses is obtained using the same operations."
   ]
  },
  {
   "cell_type": "code",
   "execution_count": 36,
   "id": "d2f8cc26-d39f-41d4-958c-01f4d52b6c2b",
   "metadata": {},
   "outputs": [],
   "source": [
    "tennis_loser <- tennis_data |>\n",
    "    select(loser_name, loser_age, minutes, l_ace:l_bpFaced) |>\n",
    "    rename(\"name\" = loser_name, \"age\" = loser_age, \"ace\" = l_ace, \"df\" = l_df, \"sv_pts\" = l_svpt, \"first_sv_in\" = l_1stIn, \"first_sv_won\" = l_1stWon,\n",
    "           \"second_sv_won\" = l_2ndWon, \"sv_gms\" = l_SvGms, \"bp_saved\" = l_bpSaved, \"bp_faced\" = l_bpFaced) |>\n",
    "    filter(name %in% tennis_win_names)\n",
    "\n",
    "tennis_losses <- tennis_loser |>\n",
    "    group_by(name) |>\n",
    "    summarize(loss_count = n())\n",
    "\n",
    "tennis_loss_names <- tennis_loser |>\n",
    "    pull(name)"
   ]
  },
  {
   "cell_type": "markdown",
   "id": "0dc28d00-1abf-47dd-94fa-5b1a9594ac87",
   "metadata": {
    "tags": []
   },
   "source": [
    "The number of wins and losses are put into a single table here. `filter()` is used here again, this time to filter to only contain those that have lost at least a single \n",
    "match. This creates a better representation of players, as those that have only won or only lost matches over two years are likely outliers who haven't played many games."
   ]
  },
  {
   "cell_type": "code",
   "execution_count": 38,
   "id": "013b8796-f45c-4df0-aafa-f011bf95cd68",
   "metadata": {
    "tags": []
   },
   "outputs": [],
   "source": [
    "win_loss <- tennis_wins |>\n",
    "    filter(name %in% tennis_loss_names) |>\n",
    "    bind_cols(select(tennis_losses, loss_count))"
   ]
  },
  {
   "cell_type": "markdown",
   "id": "6ce21a3d-7c25-4a24-9e14-4169755b76a5",
   "metadata": {},
   "source": [
    "Finally, all the data gathered above is put together and assigned to *`tennis_stats`*. This dataframe contains all players with at least a single win and loss, including their average stats, number of games played, and numbers of wins and losses."
   ]
  },
  {
   "cell_type": "code",
   "execution_count": 39,
   "id": "12b33d07-9f08-46b1-9d2e-2c38048c6539",
   "metadata": {
    "tags": []
   },
   "outputs": [
    {
     "data": {
      "text/html": [
       "<table class=\"dataframe\">\n",
       "<caption>A tibble: 253 × 15</caption>\n",
       "<thead>\n",
       "\t<tr><th scope=col>name</th><th scope=col>age</th><th scope=col>minutes</th><th scope=col>ace</th><th scope=col>df</th><th scope=col>sv_pts</th><th scope=col>first_sv_in</th><th scope=col>first_sv_won</th><th scope=col>second_sv_won</th><th scope=col>sv_gms</th><th scope=col>bp_saved</th><th scope=col>bp_faced</th><th scope=col>games_played</th><th scope=col>win_count</th><th scope=col>loss_count</th></tr>\n",
       "\t<tr><th scope=col>&lt;chr&gt;</th><th scope=col>&lt;dbl&gt;</th><th scope=col>&lt;dbl&gt;</th><th scope=col>&lt;dbl&gt;</th><th scope=col>&lt;dbl&gt;</th><th scope=col>&lt;dbl&gt;</th><th scope=col>&lt;dbl&gt;</th><th scope=col>&lt;dbl&gt;</th><th scope=col>&lt;dbl&gt;</th><th scope=col>&lt;dbl&gt;</th><th scope=col>&lt;dbl&gt;</th><th scope=col>&lt;dbl&gt;</th><th scope=col>&lt;int&gt;</th><th scope=col>&lt;int&gt;</th><th scope=col>&lt;int&gt;</th></tr>\n",
       "</thead>\n",
       "<tbody>\n",
       "\t<tr><td>Adam Pavlasek           </td><td>22.94593</td><td> 97.50000</td><td>6.750000</td><td>3.250000</td><td>82.75000</td><td>51.62500</td><td>35.00000</td><td>13.62500</td><td>12.87500</td><td>5.000000</td><td>9.000000</td><td>  8</td><td> 3</td><td> 5</td></tr>\n",
       "\t<tr><td>Adrian Mannarino        </td><td>29.97470</td><td>107.40764</td><td>4.848101</td><td>2.373418</td><td>78.07595</td><td>48.01266</td><td>33.35443</td><td>15.55696</td><td>12.20886</td><td>4.025316</td><td>6.778481</td><td>158</td><td>81</td><td>77</td></tr>\n",
       "\t<tr><td>Adrian Menendez Maceiras</td><td>32.46032</td><td>109.13333</td><td>3.800000</td><td>2.133333</td><td>78.53333</td><td>48.53333</td><td>32.06667</td><td>14.20000</td><td>11.60000</td><td>4.066667</td><td>7.600000</td><td> 15</td><td> 4</td><td>11</td></tr>\n",
       "\t<tr><td>Akira Santillan         </td><td>20.06069</td><td> 75.66667</td><td>6.166667</td><td>2.833333</td><td>65.33333</td><td>35.00000</td><td>25.83333</td><td>16.33333</td><td>10.66667</td><td>2.000000</td><td>4.000000</td><td>  6</td><td> 2</td><td> 4</td></tr>\n",
       "\t<tr><td>Albert Ramos            </td><td>30.31832</td><td>120.15686</td><td>3.823529</td><td>2.483660</td><td>81.73203</td><td>50.62745</td><td>34.56863</td><td>16.21569</td><td>12.48366</td><td>4.477124</td><td>7.320261</td><td>153</td><td>72</td><td>81</td></tr>\n",
       "\t<tr><td>⋮</td><td>⋮</td><td>⋮</td><td>⋮</td><td>⋮</td><td>⋮</td><td>⋮</td><td>⋮</td><td>⋮</td><td>⋮</td><td>⋮</td><td>⋮</td><td>⋮</td><td>⋮</td><td>⋮</td></tr>\n",
       "\t<tr><td>Yuichi Sugita</td><td>29.39904</td><td>106.7143</td><td>3.728571</td><td>2.785714</td><td> 80.24286</td><td>49.00000</td><td>33.64286</td><td>15.44286</td><td>12.27143</td><td>4.385714</td><td> 7.400000</td><td>70</td><td>29</td><td>41</td></tr>\n",
       "\t<tr><td>Ze Zhang     </td><td>27.82971</td><td> 98.3000</td><td>5.300000</td><td>4.200000</td><td> 76.40000</td><td>50.40000</td><td>35.70000</td><td>11.60000</td><td>11.70000</td><td>3.500000</td><td> 6.200000</td><td>10</td><td> 2</td><td> 8</td></tr>\n",
       "\t<tr><td>Zhe Li       </td><td>32.72553</td><td>122.6667</td><td>2.666667</td><td>1.166667</td><td> 82.83333</td><td>55.16667</td><td>33.50000</td><td>15.50000</td><td>12.66667</td><td>4.166667</td><td> 8.500000</td><td> 7</td><td> 1</td><td> 6</td></tr>\n",
       "\t<tr><td>Zhizhen Zhang</td><td>22.24120</td><td>114.6667</td><td>7.444444</td><td>1.444444</td><td> 82.55556</td><td>51.00000</td><td>36.77778</td><td>15.77778</td><td>12.55556</td><td>4.777778</td><td> 6.888889</td><td>10</td><td> 4</td><td> 6</td></tr>\n",
       "\t<tr><td>Zsombor Piros</td><td>19.03810</td><td>187.6667</td><td>7.000000</td><td>2.666667</td><td>127.33333</td><td>84.33333</td><td>55.33333</td><td>20.33333</td><td>19.66667</td><td>7.000000</td><td>12.666667</td><td> 3</td><td> 1</td><td> 2</td></tr>\n",
       "</tbody>\n",
       "</table>\n"
      ],
      "text/latex": [
       "A tibble: 253 × 15\n",
       "\\begin{tabular}{lllllllllllllll}\n",
       " name & age & minutes & ace & df & sv\\_pts & first\\_sv\\_in & first\\_sv\\_won & second\\_sv\\_won & sv\\_gms & bp\\_saved & bp\\_faced & games\\_played & win\\_count & loss\\_count\\\\\n",
       " <chr> & <dbl> & <dbl> & <dbl> & <dbl> & <dbl> & <dbl> & <dbl> & <dbl> & <dbl> & <dbl> & <dbl> & <int> & <int> & <int>\\\\\n",
       "\\hline\n",
       "\t Adam Pavlasek            & 22.94593 &  97.50000 & 6.750000 & 3.250000 & 82.75000 & 51.62500 & 35.00000 & 13.62500 & 12.87500 & 5.000000 & 9.000000 &   8 &  3 &  5\\\\\n",
       "\t Adrian Mannarino         & 29.97470 & 107.40764 & 4.848101 & 2.373418 & 78.07595 & 48.01266 & 33.35443 & 15.55696 & 12.20886 & 4.025316 & 6.778481 & 158 & 81 & 77\\\\\n",
       "\t Adrian Menendez Maceiras & 32.46032 & 109.13333 & 3.800000 & 2.133333 & 78.53333 & 48.53333 & 32.06667 & 14.20000 & 11.60000 & 4.066667 & 7.600000 &  15 &  4 & 11\\\\\n",
       "\t Akira Santillan          & 20.06069 &  75.66667 & 6.166667 & 2.833333 & 65.33333 & 35.00000 & 25.83333 & 16.33333 & 10.66667 & 2.000000 & 4.000000 &   6 &  2 &  4\\\\\n",
       "\t Albert Ramos             & 30.31832 & 120.15686 & 3.823529 & 2.483660 & 81.73203 & 50.62745 & 34.56863 & 16.21569 & 12.48366 & 4.477124 & 7.320261 & 153 & 72 & 81\\\\\n",
       "\t ⋮ & ⋮ & ⋮ & ⋮ & ⋮ & ⋮ & ⋮ & ⋮ & ⋮ & ⋮ & ⋮ & ⋮ & ⋮ & ⋮ & ⋮\\\\\n",
       "\t Yuichi Sugita & 29.39904 & 106.7143 & 3.728571 & 2.785714 &  80.24286 & 49.00000 & 33.64286 & 15.44286 & 12.27143 & 4.385714 &  7.400000 & 70 & 29 & 41\\\\\n",
       "\t Ze Zhang      & 27.82971 &  98.3000 & 5.300000 & 4.200000 &  76.40000 & 50.40000 & 35.70000 & 11.60000 & 11.70000 & 3.500000 &  6.200000 & 10 &  2 &  8\\\\\n",
       "\t Zhe Li        & 32.72553 & 122.6667 & 2.666667 & 1.166667 &  82.83333 & 55.16667 & 33.50000 & 15.50000 & 12.66667 & 4.166667 &  8.500000 &  7 &  1 &  6\\\\\n",
       "\t Zhizhen Zhang & 22.24120 & 114.6667 & 7.444444 & 1.444444 &  82.55556 & 51.00000 & 36.77778 & 15.77778 & 12.55556 & 4.777778 &  6.888889 & 10 &  4 &  6\\\\\n",
       "\t Zsombor Piros & 19.03810 & 187.6667 & 7.000000 & 2.666667 & 127.33333 & 84.33333 & 55.33333 & 20.33333 & 19.66667 & 7.000000 & 12.666667 &  3 &  1 &  2\\\\\n",
       "\\end{tabular}\n"
      ],
      "text/markdown": [
       "\n",
       "A tibble: 253 × 15\n",
       "\n",
       "| name &lt;chr&gt; | age &lt;dbl&gt; | minutes &lt;dbl&gt; | ace &lt;dbl&gt; | df &lt;dbl&gt; | sv_pts &lt;dbl&gt; | first_sv_in &lt;dbl&gt; | first_sv_won &lt;dbl&gt; | second_sv_won &lt;dbl&gt; | sv_gms &lt;dbl&gt; | bp_saved &lt;dbl&gt; | bp_faced &lt;dbl&gt; | games_played &lt;int&gt; | win_count &lt;int&gt; | loss_count &lt;int&gt; |\n",
       "|---|---|---|---|---|---|---|---|---|---|---|---|---|---|---|\n",
       "| Adam Pavlasek            | 22.94593 |  97.50000 | 6.750000 | 3.250000 | 82.75000 | 51.62500 | 35.00000 | 13.62500 | 12.87500 | 5.000000 | 9.000000 |   8 |  3 |  5 |\n",
       "| Adrian Mannarino         | 29.97470 | 107.40764 | 4.848101 | 2.373418 | 78.07595 | 48.01266 | 33.35443 | 15.55696 | 12.20886 | 4.025316 | 6.778481 | 158 | 81 | 77 |\n",
       "| Adrian Menendez Maceiras | 32.46032 | 109.13333 | 3.800000 | 2.133333 | 78.53333 | 48.53333 | 32.06667 | 14.20000 | 11.60000 | 4.066667 | 7.600000 |  15 |  4 | 11 |\n",
       "| Akira Santillan          | 20.06069 |  75.66667 | 6.166667 | 2.833333 | 65.33333 | 35.00000 | 25.83333 | 16.33333 | 10.66667 | 2.000000 | 4.000000 |   6 |  2 |  4 |\n",
       "| Albert Ramos             | 30.31832 | 120.15686 | 3.823529 | 2.483660 | 81.73203 | 50.62745 | 34.56863 | 16.21569 | 12.48366 | 4.477124 | 7.320261 | 153 | 72 | 81 |\n",
       "| ⋮ | ⋮ | ⋮ | ⋮ | ⋮ | ⋮ | ⋮ | ⋮ | ⋮ | ⋮ | ⋮ | ⋮ | ⋮ | ⋮ | ⋮ |\n",
       "| Yuichi Sugita | 29.39904 | 106.7143 | 3.728571 | 2.785714 |  80.24286 | 49.00000 | 33.64286 | 15.44286 | 12.27143 | 4.385714 |  7.400000 | 70 | 29 | 41 |\n",
       "| Ze Zhang      | 27.82971 |  98.3000 | 5.300000 | 4.200000 |  76.40000 | 50.40000 | 35.70000 | 11.60000 | 11.70000 | 3.500000 |  6.200000 | 10 |  2 |  8 |\n",
       "| Zhe Li        | 32.72553 | 122.6667 | 2.666667 | 1.166667 |  82.83333 | 55.16667 | 33.50000 | 15.50000 | 12.66667 | 4.166667 |  8.500000 |  7 |  1 |  6 |\n",
       "| Zhizhen Zhang | 22.24120 | 114.6667 | 7.444444 | 1.444444 |  82.55556 | 51.00000 | 36.77778 | 15.77778 | 12.55556 | 4.777778 |  6.888889 | 10 |  4 |  6 |\n",
       "| Zsombor Piros | 19.03810 | 187.6667 | 7.000000 | 2.666667 | 127.33333 | 84.33333 | 55.33333 | 20.33333 | 19.66667 | 7.000000 | 12.666667 |  3 |  1 |  2 |\n",
       "\n"
      ],
      "text/plain": [
       "    name                     age      minutes   ace      df       sv_pts   \n",
       "1   Adam Pavlasek            22.94593  97.50000 6.750000 3.250000 82.75000 \n",
       "2   Adrian Mannarino         29.97470 107.40764 4.848101 2.373418 78.07595 \n",
       "3   Adrian Menendez Maceiras 32.46032 109.13333 3.800000 2.133333 78.53333 \n",
       "4   Akira Santillan          20.06069  75.66667 6.166667 2.833333 65.33333 \n",
       "5   Albert Ramos             30.31832 120.15686 3.823529 2.483660 81.73203 \n",
       "⋮   ⋮                        ⋮        ⋮         ⋮        ⋮        ⋮        \n",
       "249 Yuichi Sugita            29.39904 106.7143  3.728571 2.785714  80.24286\n",
       "250 Ze Zhang                 27.82971  98.3000  5.300000 4.200000  76.40000\n",
       "251 Zhe Li                   32.72553 122.6667  2.666667 1.166667  82.83333\n",
       "252 Zhizhen Zhang            22.24120 114.6667  7.444444 1.444444  82.55556\n",
       "253 Zsombor Piros            19.03810 187.6667  7.000000 2.666667 127.33333\n",
       "    first_sv_in first_sv_won second_sv_won sv_gms   bp_saved bp_faced \n",
       "1   51.62500    35.00000     13.62500      12.87500 5.000000 9.000000 \n",
       "2   48.01266    33.35443     15.55696      12.20886 4.025316 6.778481 \n",
       "3   48.53333    32.06667     14.20000      11.60000 4.066667 7.600000 \n",
       "4   35.00000    25.83333     16.33333      10.66667 2.000000 4.000000 \n",
       "5   50.62745    34.56863     16.21569      12.48366 4.477124 7.320261 \n",
       "⋮   ⋮           ⋮            ⋮             ⋮        ⋮        ⋮        \n",
       "249 49.00000    33.64286     15.44286      12.27143 4.385714  7.400000\n",
       "250 50.40000    35.70000     11.60000      11.70000 3.500000  6.200000\n",
       "251 55.16667    33.50000     15.50000      12.66667 4.166667  8.500000\n",
       "252 51.00000    36.77778     15.77778      12.55556 4.777778  6.888889\n",
       "253 84.33333    55.33333     20.33333      19.66667 7.000000 12.666667\n",
       "    games_played win_count loss_count\n",
       "1     8           3         5        \n",
       "2   158          81        77        \n",
       "3    15           4        11        \n",
       "4     6           2         4        \n",
       "5   153          72        81        \n",
       "⋮   ⋮            ⋮         ⋮         \n",
       "249 70           29        41        \n",
       "250 10            2         8        \n",
       "251  7            1         6        \n",
       "252 10            4         6        \n",
       "253  3            1         2        "
      ]
     },
     "metadata": {},
     "output_type": "display_data"
    }
   ],
   "source": [
    "tennis_stats <- bind_rows(tennis_winner, tennis_loser) |>\n",
    "    filter(name %in% tennis_loss_names) |>\n",
    "    group_by(name) |>\n",
    "    summarize(across(age:bp_faced, mean, na.rm = TRUE), games_played = n()) |>\n",
    "    bind_cols(select(win_loss, win_count, loss_count))\n",
    "tennis_stats"
   ]
  },
  {
   "cell_type": "markdown",
   "id": "e6c8137b-31d2-4686-a1bd-504c6a726b3a",
   "metadata": {},
   "source": [
    "To further improve applicability of the predictive model, only players who have played a minimum of five games are selected. `mutate()` is also used to add a win_rate column, which will serve as the predicted variable for our analysis. This is the final format of the data."
   ]
  },
  {
   "cell_type": "code",
   "execution_count": 40,
   "id": "20fa4577-4caf-4626-b709-f87122fbb2eb",
   "metadata": {
    "tags": []
   },
   "outputs": [
    {
     "data": {
      "text/html": [
       "<table class=\"dataframe\">\n",
       "<caption>A tibble: 224 × 16</caption>\n",
       "<thead>\n",
       "\t<tr><th scope=col>name</th><th scope=col>age</th><th scope=col>minutes</th><th scope=col>ace</th><th scope=col>df</th><th scope=col>sv_pts</th><th scope=col>first_sv_in</th><th scope=col>first_sv_won</th><th scope=col>second_sv_won</th><th scope=col>sv_gms</th><th scope=col>bp_saved</th><th scope=col>bp_faced</th><th scope=col>games_played</th><th scope=col>win_count</th><th scope=col>loss_count</th><th scope=col>win_rate</th></tr>\n",
       "\t<tr><th scope=col>&lt;chr&gt;</th><th scope=col>&lt;dbl&gt;</th><th scope=col>&lt;dbl&gt;</th><th scope=col>&lt;dbl&gt;</th><th scope=col>&lt;dbl&gt;</th><th scope=col>&lt;dbl&gt;</th><th scope=col>&lt;dbl&gt;</th><th scope=col>&lt;dbl&gt;</th><th scope=col>&lt;dbl&gt;</th><th scope=col>&lt;dbl&gt;</th><th scope=col>&lt;dbl&gt;</th><th scope=col>&lt;dbl&gt;</th><th scope=col>&lt;int&gt;</th><th scope=col>&lt;int&gt;</th><th scope=col>&lt;int&gt;</th><th scope=col>&lt;dbl&gt;</th></tr>\n",
       "</thead>\n",
       "<tbody>\n",
       "\t<tr><td>Adam Pavlasek           </td><td>22.94593</td><td> 97.50000</td><td>6.750000</td><td>3.250000</td><td>82.75000</td><td>51.62500</td><td>35.00000</td><td>13.62500</td><td>12.87500</td><td>5.000000</td><td>9.000000</td><td>  8</td><td> 3</td><td> 5</td><td>0.3750000</td></tr>\n",
       "\t<tr><td>Adrian Mannarino        </td><td>29.97470</td><td>107.40764</td><td>4.848101</td><td>2.373418</td><td>78.07595</td><td>48.01266</td><td>33.35443</td><td>15.55696</td><td>12.20886</td><td>4.025316</td><td>6.778481</td><td>158</td><td>81</td><td>77</td><td>0.5126582</td></tr>\n",
       "\t<tr><td>Adrian Menendez Maceiras</td><td>32.46032</td><td>109.13333</td><td>3.800000</td><td>2.133333</td><td>78.53333</td><td>48.53333</td><td>32.06667</td><td>14.20000</td><td>11.60000</td><td>4.066667</td><td>7.600000</td><td> 15</td><td> 4</td><td>11</td><td>0.2666667</td></tr>\n",
       "\t<tr><td>Akira Santillan         </td><td>20.06069</td><td> 75.66667</td><td>6.166667</td><td>2.833333</td><td>65.33333</td><td>35.00000</td><td>25.83333</td><td>16.33333</td><td>10.66667</td><td>2.000000</td><td>4.000000</td><td>  6</td><td> 2</td><td> 4</td><td>0.3333333</td></tr>\n",
       "\t<tr><td>Albert Ramos            </td><td>30.31832</td><td>120.15686</td><td>3.823529</td><td>2.483660</td><td>81.73203</td><td>50.62745</td><td>34.56863</td><td>16.21569</td><td>12.48366</td><td>4.477124</td><td>7.320261</td><td>153</td><td>72</td><td>81</td><td>0.4705882</td></tr>\n",
       "\t<tr><td>⋮</td><td>⋮</td><td>⋮</td><td>⋮</td><td>⋮</td><td>⋮</td><td>⋮</td><td>⋮</td><td>⋮</td><td>⋮</td><td>⋮</td><td>⋮</td><td>⋮</td><td>⋮</td><td>⋮</td><td>⋮</td></tr>\n",
       "\t<tr><td>Yoshihito Nishioka</td><td>22.99085</td><td>109.7714</td><td>1.671429</td><td>1.628571</td><td>81.41429</td><td>53.75714</td><td>33.84286</td><td>14.65714</td><td>12.40000</td><td>5.142857</td><td>8.728571</td><td>71</td><td>35</td><td>36</td><td>0.4929577</td></tr>\n",
       "\t<tr><td>Yuichi Sugita     </td><td>29.39904</td><td>106.7143</td><td>3.728571</td><td>2.785714</td><td>80.24286</td><td>49.00000</td><td>33.64286</td><td>15.44286</td><td>12.27143</td><td>4.385714</td><td>7.400000</td><td>70</td><td>29</td><td>41</td><td>0.4142857</td></tr>\n",
       "\t<tr><td>Ze Zhang          </td><td>27.82971</td><td> 98.3000</td><td>5.300000</td><td>4.200000</td><td>76.40000</td><td>50.40000</td><td>35.70000</td><td>11.60000</td><td>11.70000</td><td>3.500000</td><td>6.200000</td><td>10</td><td> 2</td><td> 8</td><td>0.2000000</td></tr>\n",
       "\t<tr><td>Zhe Li            </td><td>32.72553</td><td>122.6667</td><td>2.666667</td><td>1.166667</td><td>82.83333</td><td>55.16667</td><td>33.50000</td><td>15.50000</td><td>12.66667</td><td>4.166667</td><td>8.500000</td><td> 7</td><td> 1</td><td> 6</td><td>0.1428571</td></tr>\n",
       "\t<tr><td>Zhizhen Zhang     </td><td>22.24120</td><td>114.6667</td><td>7.444444</td><td>1.444444</td><td>82.55556</td><td>51.00000</td><td>36.77778</td><td>15.77778</td><td>12.55556</td><td>4.777778</td><td>6.888889</td><td>10</td><td> 4</td><td> 6</td><td>0.4000000</td></tr>\n",
       "</tbody>\n",
       "</table>\n"
      ],
      "text/latex": [
       "A tibble: 224 × 16\n",
       "\\begin{tabular}{llllllllllllllll}\n",
       " name & age & minutes & ace & df & sv\\_pts & first\\_sv\\_in & first\\_sv\\_won & second\\_sv\\_won & sv\\_gms & bp\\_saved & bp\\_faced & games\\_played & win\\_count & loss\\_count & win\\_rate\\\\\n",
       " <chr> & <dbl> & <dbl> & <dbl> & <dbl> & <dbl> & <dbl> & <dbl> & <dbl> & <dbl> & <dbl> & <dbl> & <int> & <int> & <int> & <dbl>\\\\\n",
       "\\hline\n",
       "\t Adam Pavlasek            & 22.94593 &  97.50000 & 6.750000 & 3.250000 & 82.75000 & 51.62500 & 35.00000 & 13.62500 & 12.87500 & 5.000000 & 9.000000 &   8 &  3 &  5 & 0.3750000\\\\\n",
       "\t Adrian Mannarino         & 29.97470 & 107.40764 & 4.848101 & 2.373418 & 78.07595 & 48.01266 & 33.35443 & 15.55696 & 12.20886 & 4.025316 & 6.778481 & 158 & 81 & 77 & 0.5126582\\\\\n",
       "\t Adrian Menendez Maceiras & 32.46032 & 109.13333 & 3.800000 & 2.133333 & 78.53333 & 48.53333 & 32.06667 & 14.20000 & 11.60000 & 4.066667 & 7.600000 &  15 &  4 & 11 & 0.2666667\\\\\n",
       "\t Akira Santillan          & 20.06069 &  75.66667 & 6.166667 & 2.833333 & 65.33333 & 35.00000 & 25.83333 & 16.33333 & 10.66667 & 2.000000 & 4.000000 &   6 &  2 &  4 & 0.3333333\\\\\n",
       "\t Albert Ramos             & 30.31832 & 120.15686 & 3.823529 & 2.483660 & 81.73203 & 50.62745 & 34.56863 & 16.21569 & 12.48366 & 4.477124 & 7.320261 & 153 & 72 & 81 & 0.4705882\\\\\n",
       "\t ⋮ & ⋮ & ⋮ & ⋮ & ⋮ & ⋮ & ⋮ & ⋮ & ⋮ & ⋮ & ⋮ & ⋮ & ⋮ & ⋮ & ⋮ & ⋮\\\\\n",
       "\t Yoshihito Nishioka & 22.99085 & 109.7714 & 1.671429 & 1.628571 & 81.41429 & 53.75714 & 33.84286 & 14.65714 & 12.40000 & 5.142857 & 8.728571 & 71 & 35 & 36 & 0.4929577\\\\\n",
       "\t Yuichi Sugita      & 29.39904 & 106.7143 & 3.728571 & 2.785714 & 80.24286 & 49.00000 & 33.64286 & 15.44286 & 12.27143 & 4.385714 & 7.400000 & 70 & 29 & 41 & 0.4142857\\\\\n",
       "\t Ze Zhang           & 27.82971 &  98.3000 & 5.300000 & 4.200000 & 76.40000 & 50.40000 & 35.70000 & 11.60000 & 11.70000 & 3.500000 & 6.200000 & 10 &  2 &  8 & 0.2000000\\\\\n",
       "\t Zhe Li             & 32.72553 & 122.6667 & 2.666667 & 1.166667 & 82.83333 & 55.16667 & 33.50000 & 15.50000 & 12.66667 & 4.166667 & 8.500000 &  7 &  1 &  6 & 0.1428571\\\\\n",
       "\t Zhizhen Zhang      & 22.24120 & 114.6667 & 7.444444 & 1.444444 & 82.55556 & 51.00000 & 36.77778 & 15.77778 & 12.55556 & 4.777778 & 6.888889 & 10 &  4 &  6 & 0.4000000\\\\\n",
       "\\end{tabular}\n"
      ],
      "text/markdown": [
       "\n",
       "A tibble: 224 × 16\n",
       "\n",
       "| name &lt;chr&gt; | age &lt;dbl&gt; | minutes &lt;dbl&gt; | ace &lt;dbl&gt; | df &lt;dbl&gt; | sv_pts &lt;dbl&gt; | first_sv_in &lt;dbl&gt; | first_sv_won &lt;dbl&gt; | second_sv_won &lt;dbl&gt; | sv_gms &lt;dbl&gt; | bp_saved &lt;dbl&gt; | bp_faced &lt;dbl&gt; | games_played &lt;int&gt; | win_count &lt;int&gt; | loss_count &lt;int&gt; | win_rate &lt;dbl&gt; |\n",
       "|---|---|---|---|---|---|---|---|---|---|---|---|---|---|---|---|\n",
       "| Adam Pavlasek            | 22.94593 |  97.50000 | 6.750000 | 3.250000 | 82.75000 | 51.62500 | 35.00000 | 13.62500 | 12.87500 | 5.000000 | 9.000000 |   8 |  3 |  5 | 0.3750000 |\n",
       "| Adrian Mannarino         | 29.97470 | 107.40764 | 4.848101 | 2.373418 | 78.07595 | 48.01266 | 33.35443 | 15.55696 | 12.20886 | 4.025316 | 6.778481 | 158 | 81 | 77 | 0.5126582 |\n",
       "| Adrian Menendez Maceiras | 32.46032 | 109.13333 | 3.800000 | 2.133333 | 78.53333 | 48.53333 | 32.06667 | 14.20000 | 11.60000 | 4.066667 | 7.600000 |  15 |  4 | 11 | 0.2666667 |\n",
       "| Akira Santillan          | 20.06069 |  75.66667 | 6.166667 | 2.833333 | 65.33333 | 35.00000 | 25.83333 | 16.33333 | 10.66667 | 2.000000 | 4.000000 |   6 |  2 |  4 | 0.3333333 |\n",
       "| Albert Ramos             | 30.31832 | 120.15686 | 3.823529 | 2.483660 | 81.73203 | 50.62745 | 34.56863 | 16.21569 | 12.48366 | 4.477124 | 7.320261 | 153 | 72 | 81 | 0.4705882 |\n",
       "| ⋮ | ⋮ | ⋮ | ⋮ | ⋮ | ⋮ | ⋮ | ⋮ | ⋮ | ⋮ | ⋮ | ⋮ | ⋮ | ⋮ | ⋮ | ⋮ |\n",
       "| Yoshihito Nishioka | 22.99085 | 109.7714 | 1.671429 | 1.628571 | 81.41429 | 53.75714 | 33.84286 | 14.65714 | 12.40000 | 5.142857 | 8.728571 | 71 | 35 | 36 | 0.4929577 |\n",
       "| Yuichi Sugita      | 29.39904 | 106.7143 | 3.728571 | 2.785714 | 80.24286 | 49.00000 | 33.64286 | 15.44286 | 12.27143 | 4.385714 | 7.400000 | 70 | 29 | 41 | 0.4142857 |\n",
       "| Ze Zhang           | 27.82971 |  98.3000 | 5.300000 | 4.200000 | 76.40000 | 50.40000 | 35.70000 | 11.60000 | 11.70000 | 3.500000 | 6.200000 | 10 |  2 |  8 | 0.2000000 |\n",
       "| Zhe Li             | 32.72553 | 122.6667 | 2.666667 | 1.166667 | 82.83333 | 55.16667 | 33.50000 | 15.50000 | 12.66667 | 4.166667 | 8.500000 |  7 |  1 |  6 | 0.1428571 |\n",
       "| Zhizhen Zhang      | 22.24120 | 114.6667 | 7.444444 | 1.444444 | 82.55556 | 51.00000 | 36.77778 | 15.77778 | 12.55556 | 4.777778 | 6.888889 | 10 |  4 |  6 | 0.4000000 |\n",
       "\n"
      ],
      "text/plain": [
       "    name                     age      minutes   ace      df       sv_pts  \n",
       "1   Adam Pavlasek            22.94593  97.50000 6.750000 3.250000 82.75000\n",
       "2   Adrian Mannarino         29.97470 107.40764 4.848101 2.373418 78.07595\n",
       "3   Adrian Menendez Maceiras 32.46032 109.13333 3.800000 2.133333 78.53333\n",
       "4   Akira Santillan          20.06069  75.66667 6.166667 2.833333 65.33333\n",
       "5   Albert Ramos             30.31832 120.15686 3.823529 2.483660 81.73203\n",
       "⋮   ⋮                        ⋮        ⋮         ⋮        ⋮        ⋮       \n",
       "220 Yoshihito Nishioka       22.99085 109.7714  1.671429 1.628571 81.41429\n",
       "221 Yuichi Sugita            29.39904 106.7143  3.728571 2.785714 80.24286\n",
       "222 Ze Zhang                 27.82971  98.3000  5.300000 4.200000 76.40000\n",
       "223 Zhe Li                   32.72553 122.6667  2.666667 1.166667 82.83333\n",
       "224 Zhizhen Zhang            22.24120 114.6667  7.444444 1.444444 82.55556\n",
       "    first_sv_in first_sv_won second_sv_won sv_gms   bp_saved bp_faced\n",
       "1   51.62500    35.00000     13.62500      12.87500 5.000000 9.000000\n",
       "2   48.01266    33.35443     15.55696      12.20886 4.025316 6.778481\n",
       "3   48.53333    32.06667     14.20000      11.60000 4.066667 7.600000\n",
       "4   35.00000    25.83333     16.33333      10.66667 2.000000 4.000000\n",
       "5   50.62745    34.56863     16.21569      12.48366 4.477124 7.320261\n",
       "⋮   ⋮           ⋮            ⋮             ⋮        ⋮        ⋮       \n",
       "220 53.75714    33.84286     14.65714      12.40000 5.142857 8.728571\n",
       "221 49.00000    33.64286     15.44286      12.27143 4.385714 7.400000\n",
       "222 50.40000    35.70000     11.60000      11.70000 3.500000 6.200000\n",
       "223 55.16667    33.50000     15.50000      12.66667 4.166667 8.500000\n",
       "224 51.00000    36.77778     15.77778      12.55556 4.777778 6.888889\n",
       "    games_played win_count loss_count win_rate \n",
       "1     8           3         5         0.3750000\n",
       "2   158          81        77         0.5126582\n",
       "3    15           4        11         0.2666667\n",
       "4     6           2         4         0.3333333\n",
       "5   153          72        81         0.4705882\n",
       "⋮   ⋮            ⋮         ⋮          ⋮        \n",
       "220 71           35        36         0.4929577\n",
       "221 70           29        41         0.4142857\n",
       "222 10            2         8         0.2000000\n",
       "223  7            1         6         0.1428571\n",
       "224 10            4         6         0.4000000"
      ]
     },
     "metadata": {},
     "output_type": "display_data"
    }
   ],
   "source": [
    "tennis_wanted_stats <- tennis_stats |>\n",
    "    filter(games_played >= 5) |>\n",
    "    mutate(win_rate = win_count / games_played)\n",
    "tennis_wanted_stats"
   ]
  },
  {
   "cell_type": "markdown",
   "id": "3a632b6c-a590-4144-84f1-5f833da27037",
   "metadata": {},
   "source": [
    "Prior to the analysis, the seed is set for a consistent, reproducible split. The data is split into a training set and a testing set."
   ]
  },
  {
   "cell_type": "code",
   "execution_count": 41,
   "id": "79204b85-38b9-4a80-a646-8866405b68f8",
   "metadata": {
    "tags": []
   },
   "outputs": [],
   "source": [
    "set.seed(1000)\n",
    "\n",
    "tennis_split <- initial_split(tennis_wanted_stats, prop = 0.75, strata = win_rate)  \n",
    "tennis_training <- training(tennis_split) \n",
    "tennis_testing <- testing(tennis_split) "
   ]
  },
  {
   "cell_type": "markdown",
   "id": "5bc65572-c11e-45e2-a329-51fcc918f94e",
   "metadata": {},
   "source": []
  },
  {
   "cell_type": "code",
   "execution_count": 46,
   "id": "232d5f4b-4fce-4a69-830d-18a488804a8b",
   "metadata": {
    "tags": []
   },
   "outputs": [
    {
     "data": {
      "text/plain": [
       "══ Workflow [trained] ══════════════════════════════════════════════════════════\n",
       "\u001b[3mPreprocessor:\u001b[23m Recipe\n",
       "\u001b[3mModel:\u001b[23m linear_reg()\n",
       "\n",
       "── Preprocessor ────────────────────────────────────────────────────────────────\n",
       "0 Recipe Steps\n",
       "\n",
       "── Model ───────────────────────────────────────────────────────────────────────\n",
       "\n",
       "Call:\n",
       "stats::lm(formula = ..y ~ ., data = data)\n",
       "\n",
       "Coefficients:\n",
       "  (Intercept)            age        minutes             df         sv_pts  \n",
       "     0.668481      -0.001470       0.005273       0.005404      -0.020724  \n",
       "  first_sv_in   first_sv_won  second_sv_won         sv_gms       bp_saved  \n",
       "     0.022035      -0.038175      -0.002269       0.130777       0.207770  \n",
       "     bp_faced  \n",
       "    -0.191079  \n"
      ]
     },
     "metadata": {},
     "output_type": "display_data"
    }
   ],
   "source": [
    "lm_spec <- linear_reg() |>\n",
    "    set_engine(\"lm\") |>\n",
    "    set_mode(\"regression\")\n",
    "\n",
    "tennis_recipe <- recipe(win_rate ~ age + minutes + df + sv_pts + first_sv_in + first_sv_won + second_sv_won + sv_gms + bp_saved + bp_faced,\n",
    "                        data = tennis_training)\n",
    "\n",
    "tennis_fit <- workflow() |>\n",
    "    add_model(lm_spec) |>\n",
    "    add_recipe(tennis_recipe) |>\n",
    "    fit(data = tennis_training)\n",
    "\n",
    "tennis_fit"
   ]
  },
  {
   "cell_type": "markdown",
   "id": "3e766b06-c911-4686-a29b-b6d699077c8f",
   "metadata": {},
   "source": []
  },
  {
   "cell_type": "code",
   "execution_count": null,
   "id": "38967d30-5bc1-4c55-9e18-0b73590d26f8",
   "metadata": {},
   "outputs": [],
   "source": []
  },
  {
   "cell_type": "markdown",
   "id": "580ddaa0-18d9-4868-91f1-b7075a0ff044",
   "metadata": {},
   "source": [
    "### Discussion"
   ]
  },
  {
   "cell_type": "code",
   "execution_count": null,
   "id": "fa7ddf6b-34dd-4b04-b1e1-1f678c8c07a7",
   "metadata": {},
   "outputs": [],
   "source": []
  },
  {
   "cell_type": "markdown",
   "id": "efb01bcc-f535-4dec-b2a6-a50549fae144",
   "metadata": {},
   "source": [
    "### References"
   ]
  },
  {
   "cell_type": "code",
   "execution_count": null,
   "id": "227aa0b5-667c-42f0-9a47-e961d03485f8",
   "metadata": {},
   "outputs": [],
   "source": []
  }
 ],
 "metadata": {
  "kernelspec": {
   "display_name": "R",
   "language": "R",
   "name": "ir"
  },
  "language_info": {
   "codemirror_mode": "r",
   "file_extension": ".r",
   "mimetype": "text/x-r-source",
   "name": "R",
   "pygments_lexer": "r",
   "version": "4.2.2"
  }
 },
 "nbformat": 4,
 "nbformat_minor": 5
}
